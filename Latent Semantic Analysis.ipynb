{
 "cells": [
  {
   "cell_type": "markdown",
   "metadata": {},
   "source": [
    "# Latent Semantic Analysis"
   ]
  },
  {
   "cell_type": "code",
   "execution_count": 1,
   "metadata": {
    "ExecuteTime": {
     "end_time": "2018-12-22T15:32:56.860454Z",
     "start_time": "2018-12-22T15:32:54.651701Z"
    }
   },
   "outputs": [],
   "source": [
    "from sklearn.feature_extraction.text import TfidfVectorizer#create it-idf model \n",
    "from sklearn.decomposition import TruncatedSVD#To decompose to matrix into SVD\n",
    "import nltk"
   ]
  },
  {
   "cell_type": "code",
   "execution_count": null,
   "metadata": {},
   "outputs": [],
   "source": []
  },
  {
   "cell_type": "code",
   "execution_count": 2,
   "metadata": {
    "ExecuteTime": {
     "end_time": "2018-12-22T15:32:56.869928Z",
     "start_time": "2018-12-22T15:32:56.864423Z"
    }
   },
   "outputs": [],
   "source": [
    "data = [\"The amount of polution is increasing day by day\",\n",
    "       \"The concert was just great\",\n",
    "       \"I love to see gordan ramsey cook\",\n",
    "       \"Google is inrtoducing a new technology\",\n",
    "       \"AI Robots are examples of great technology present today\",\n",
    "       \"All of us were singing in the concert\",\n",
    "       \"We have launch campaigns to stop pollution and global warming\"]"
   ]
  },
  {
   "cell_type": "code",
   "execution_count": 3,
   "metadata": {
    "ExecuteTime": {
     "end_time": "2018-12-22T15:32:56.882733Z",
     "start_time": "2018-12-22T15:32:56.876160Z"
    }
   },
   "outputs": [],
   "source": [
    "data = [line.lower() for line in data]"
   ]
  },
  {
   "cell_type": "code",
   "execution_count": 4,
   "metadata": {
    "ExecuteTime": {
     "end_time": "2018-12-22T15:32:56.901449Z",
     "start_time": "2018-12-22T15:32:56.886587Z"
    }
   },
   "outputs": [
    {
     "data": {
      "text/plain": [
       "['the amount of polution is increasing day by day',\n",
       " 'the concert was just great',\n",
       " 'i love to see gordan ramsey cook',\n",
       " 'google is inrtoducing a new technology',\n",
       " 'ai robots are examples of great technology present today',\n",
       " 'all of us were singing in the concert',\n",
       " 'we have launch campaigns to stop pollution and global warming']"
      ]
     },
     "execution_count": 4,
     "metadata": {},
     "output_type": "execute_result"
    }
   ],
   "source": [
    "data"
   ]
  },
  {
   "cell_type": "code",
   "execution_count": 5,
   "metadata": {
    "ExecuteTime": {
     "end_time": "2018-12-22T15:32:56.910691Z",
     "start_time": "2018-12-22T15:32:56.906072Z"
    }
   },
   "outputs": [],
   "source": [
    "vectorizer = TfidfVectorizer()"
   ]
  },
  {
   "cell_type": "code",
   "execution_count": 6,
   "metadata": {
    "ExecuteTime": {
     "end_time": "2018-12-22T15:32:56.923676Z",
     "start_time": "2018-12-22T15:32:56.915719Z"
    }
   },
   "outputs": [],
   "source": [
    "X = vectorizer.fit_transform(data)#convert data to Tf-idf model"
   ]
  },
  {
   "cell_type": "code",
   "execution_count": 7,
   "metadata": {
    "ExecuteTime": {
     "end_time": "2018-12-22T15:32:56.935658Z",
     "start_time": "2018-12-22T15:32:56.928160Z"
    }
   },
   "outputs": [
    {
     "name": "stdout",
     "output_type": "stream",
     "text": [
      "  (0, 34)\t0.22786438777524437\n",
      "  (0, 2)\t0.3211483974289088\n",
      "  (0, 24)\t0.22786438777524437\n",
      "  (0, 26)\t0.3211483974289088\n",
      "  (0, 19)\t0.2665807498646048\n",
      "  (0, 17)\t0.3211483974289088\n",
      "  (0, 9)\t0.6422967948578177\n",
      "  (0, 5)\t0.3211483974289088\n"
     ]
    }
   ],
   "source": [
    "print(X[0])#0 means docuemnt no"
   ]
  },
  {
   "cell_type": "code",
   "execution_count": 8,
   "metadata": {
    "ExecuteTime": {
     "end_time": "2018-12-22T15:32:56.949574Z",
     "start_time": "2018-12-22T15:32:56.939656Z"
    }
   },
   "outputs": [
    {
     "name": "stdout",
     "output_type": "stream",
     "text": [
      "  (0, 34)\t0.3601387937497519\n",
      "  (0, 7)\t0.42132985601874456\n",
      "  (0, 39)\t0.5075738143811801\n",
      "  (0, 20)\t0.5075738143811801\n",
      "  (0, 14)\t0.42132985601874456\n"
     ]
    }
   ],
   "source": [
    "print(X[1])"
   ]
  },
  {
   "cell_type": "code",
   "execution_count": 9,
   "metadata": {
    "ExecuteTime": {
     "end_time": "2018-12-22T15:32:56.956525Z",
     "start_time": "2018-12-22T15:32:56.952663Z"
    }
   },
   "outputs": [],
   "source": [
    "#n_components means no of concepts\n",
    "#n_iter means no of iteration for decomposition.Higher the better\n",
    "lsa = TruncatedSVD(n_components=4,n_iter=100)"
   ]
  },
  {
   "cell_type": "code",
   "execution_count": null,
   "metadata": {},
   "outputs": [],
   "source": []
  },
  {
   "cell_type": "code",
   "execution_count": 10,
   "metadata": {
    "ExecuteTime": {
     "end_time": "2018-12-22T15:32:57.007669Z",
     "start_time": "2018-12-22T15:32:56.960506Z"
    }
   },
   "outputs": [
    {
     "data": {
      "text/plain": [
       "TruncatedSVD(algorithm='randomized', n_components=4, n_iter=100,\n",
       "       random_state=None, tol=0.0)"
      ]
     },
     "execution_count": 10,
     "metadata": {},
     "output_type": "execute_result"
    }
   ],
   "source": [
    "#only get V(transpose) from TruncatedSvd by default(r*n)\n",
    "lsa.fit(X)"
   ]
  },
  {
   "cell_type": "code",
   "execution_count": 11,
   "metadata": {
    "ExecuteTime": {
     "end_time": "2018-12-22T15:32:57.015416Z",
     "start_time": "2018-12-22T15:32:57.011036Z"
    }
   },
   "outputs": [],
   "source": [
    "row1 = lsa.components_[0]#parameters wil be within no of concepts"
   ]
  },
  {
   "cell_type": "code",
   "execution_count": 12,
   "metadata": {
    "ExecuteTime": {
     "end_time": "2018-12-22T15:32:57.028151Z",
     "start_time": "2018-12-22T15:32:57.018890Z"
    }
   },
   "outputs": [
    {
     "data": {
      "text/plain": [
       "array([ 1.24191973e-01,  1.78240252e-01,  1.14460798e-01, -6.06130625e-17,\n",
       "        1.24191973e-01,  1.14460798e-01, -6.06130625e-17,  3.44988739e-01,\n",
       "       -1.00230244e-16,  2.28921595e-01,  1.24191973e-01, -6.06130625e-17,\n",
       "        9.72770950e-02, -1.00230244e-16,  3.00124026e-01, -6.06130625e-17,\n",
       "        1.78240252e-01,  1.14460798e-01,  9.72770950e-02,  1.75760635e-01,\n",
       "        2.37365829e-01, -6.06130625e-17, -1.00230244e-16,  9.72770950e-02,\n",
       "        2.95798061e-01, -6.06130625e-17,  1.14460798e-01,  1.24191973e-01,\n",
       "       -1.00230244e-16,  1.24191973e-01, -1.00230244e-16,  1.78240252e-01,\n",
       "       -6.06130625e-17,  1.83838346e-01,  3.76098295e-01, -1.33513758e-16,\n",
       "        1.24191973e-01,  1.78240252e-01, -6.06130625e-17,  2.37365829e-01,\n",
       "       -6.06130625e-17,  1.78240252e-01])"
      ]
     },
     "execution_count": 12,
     "metadata": {},
     "output_type": "execute_result"
    }
   ],
   "source": [
    "row1"
   ]
  },
  {
   "cell_type": "code",
   "execution_count": 13,
   "metadata": {
    "ExecuteTime": {
     "end_time": "2018-12-22T15:32:57.038721Z",
     "start_time": "2018-12-22T15:32:57.033906Z"
    }
   },
   "outputs": [],
   "source": [
    "#\n",
    "terms = vectorizer.get_feature_names()"
   ]
  },
  {
   "cell_type": "code",
   "execution_count": 14,
   "metadata": {
    "ExecuteTime": {
     "end_time": "2018-12-22T15:32:57.052224Z",
     "start_time": "2018-12-22T15:32:57.043004Z"
    }
   },
   "outputs": [
    {
     "data": {
      "text/plain": [
       "['ai',\n",
       " 'all',\n",
       " 'amount',\n",
       " 'and',\n",
       " 'are',\n",
       " 'by',\n",
       " 'campaigns',\n",
       " 'concert',\n",
       " 'cook',\n",
       " 'day',\n",
       " 'examples',\n",
       " 'global',\n",
       " 'google',\n",
       " 'gordan',\n",
       " 'great',\n",
       " 'have',\n",
       " 'in',\n",
       " 'increasing',\n",
       " 'inrtoducing',\n",
       " 'is',\n",
       " 'just',\n",
       " 'launch',\n",
       " 'love',\n",
       " 'new',\n",
       " 'of',\n",
       " 'pollution',\n",
       " 'polution',\n",
       " 'present',\n",
       " 'ramsey',\n",
       " 'robots',\n",
       " 'see',\n",
       " 'singing',\n",
       " 'stop',\n",
       " 'technology',\n",
       " 'the',\n",
       " 'to',\n",
       " 'today',\n",
       " 'us',\n",
       " 'warming',\n",
       " 'was',\n",
       " 'we',\n",
       " 'were']"
      ]
     },
     "execution_count": 14,
     "metadata": {},
     "output_type": "execute_result"
    }
   ],
   "source": [
    "terms"
   ]
  },
  {
   "cell_type": "code",
   "execution_count": 15,
   "metadata": {
    "ExecuteTime": {
     "end_time": "2018-12-22T15:32:57.061951Z",
     "start_time": "2018-12-22T15:32:57.055628Z"
    }
   },
   "outputs": [],
   "source": [
    "#Creates new tuple with concepts and its corresponding values\n",
    "#only top 10 \n",
    "concepts_words= {}\n",
    "for i,comp in enumerate(lsa.components_):#all the rows in v(transpose) matrix\n",
    "    componentTerms = zip(terms,comp)\n",
    "    sortedterms = sorted(componentTerms,key=lambda x:x[1],reverse=True)\n",
    "    sortedterms = sortedterms[:10]\n",
    "    #print(\"\\nConcepts\",i,\":\")\n",
    "    #for term in sortedterms:\n",
    "    #    print(term)\n",
    "    concepts_words[\"concept\"+str(i)]=sortedterms"
   ]
  },
  {
   "cell_type": "code",
   "execution_count": 16,
   "metadata": {
    "ExecuteTime": {
     "end_time": "2018-12-22T15:32:57.074639Z",
     "start_time": "2018-12-22T15:32:57.066160Z"
    }
   },
   "outputs": [
    {
     "data": {
      "text/plain": [
       "{'concept0': [('the', 0.37609829529263766),\n",
       "  ('concert', 0.3449887392330664),\n",
       "  ('great', 0.30012402589487397),\n",
       "  ('of', 0.2957980609526664),\n",
       "  ('just', 0.2373658292979126),\n",
       "  ('was', 0.2373658292979126),\n",
       "  ('day', 0.2289215954150444),\n",
       "  ('technology', 0.18383834567413396),\n",
       "  ('all', 0.17824025175628988),\n",
       "  ('in', 0.17824025175628988)],\n",
       " 'concept1': [('to', 0.4157884439670067),\n",
       "  ('cook', 0.2835916579351068),\n",
       "  ('gordan', 0.2835916579351068),\n",
       "  ('love', 0.2835916579351068),\n",
       "  ('ramsey', 0.2835916579351068),\n",
       "  ('see', 0.2835916579351068),\n",
       "  ('and', 0.21730644711292493),\n",
       "  ('campaigns', 0.21730644711292493),\n",
       "  ('global', 0.21730644711292493),\n",
       "  ('have', 0.21730644711292493)],\n",
       " 'concept2': [('technology', 0.37791806767144037),\n",
       "  ('is', 0.3419614380631992),\n",
       "  ('google', 0.3413969441909754),\n",
       "  ('inrtoducing', 0.3413969441909754),\n",
       "  ('new', 0.3413969441909754),\n",
       "  ('day', 0.1411243268099472),\n",
       "  ('are', 0.11387892195373012),\n",
       "  ('examples', 0.11387892195373012),\n",
       "  ('present', 0.11387892195373012),\n",
       "  ('robots', 0.11387892195373012)],\n",
       " 'concept3': [('day', 0.4654267679041123),\n",
       "  ('amount', 0.2327133839520562),\n",
       "  ('by', 0.23271338395205615),\n",
       "  ('increasing', 0.23271338395205615),\n",
       "  ('polution', 0.23271338395205615),\n",
       "  ('is', 0.21264455202450028),\n",
       "  ('the', 0.1272421318069433),\n",
       "  ('all', 0.05644664752726499),\n",
       "  ('in', 0.05644664752726491),\n",
       "  ('singing', 0.05644664752726491)]}"
      ]
     },
     "execution_count": 16,
     "metadata": {},
     "output_type": "execute_result"
    }
   ],
   "source": [
    "concepts_words"
   ]
  },
  {
   "cell_type": "code",
   "execution_count": null,
   "metadata": {},
   "outputs": [],
   "source": []
  },
  {
   "cell_type": "code",
   "execution_count": 17,
   "metadata": {
    "ExecuteTime": {
     "end_time": "2018-12-22T15:32:57.109373Z",
     "start_time": "2018-12-22T15:32:57.077979Z"
    }
   },
   "outputs": [
    {
     "name": "stdout",
     "output_type": "stream",
     "text": [
      "\n",
      "concept0:\n",
      "1.1297395470753928\n",
      "1.4959427190164032\n",
      "0\n",
      "0.18383834567413396\n",
      "0.7797604325216743\n",
      "1.3733655989909503\n",
      "0\n",
      "\n",
      "concept1:\n",
      "0\n",
      "0\n",
      "1.8337467336425406\n",
      "0\n",
      "0\n",
      "0\n",
      "1.2850142324187064\n",
      "\n",
      "concept2:\n",
      "0.6242100916830935\n",
      "0\n",
      "0\n",
      "1.7440703383075657\n",
      "0.8334337554863609\n",
      "0\n",
      "0\n",
      "\n",
      "concept3:\n",
      "2.201593755447893\n",
      "0.1272421318069433\n",
      "0\n",
      "0.21264455202450028\n",
      "0\n",
      "0.29658207438873807\n",
      "0\n"
     ]
    }
   ],
   "source": [
    "for key in concepts_words.keys():\n",
    "    sentence_score = []\n",
    "    \n",
    "    for sentence in data:\n",
    "        words = nltk.word_tokenize(sentence)\n",
    "        score = 0 #score for each sentences\n",
    "        \n",
    "        for word in words:\n",
    "            for word_with_score in concepts_words[key]:\n",
    "                if word == word_with_score[0]:\n",
    "                    score += word_with_score[1]\n",
    "        sentence_score.append(score)\n",
    "    print(\"\\n\"+key+\":\")\n",
    "    for sentence_score in sentence_score:\n",
    "        print(sentence_score)\n",
    "    "
   ]
  },
  {
   "cell_type": "code",
   "execution_count": null,
   "metadata": {},
   "outputs": [],
   "source": []
  },
  {
   "cell_type": "code",
   "execution_count": 18,
   "metadata": {
    "ExecuteTime": {
     "end_time": "2018-12-22T15:32:57.122377Z",
     "start_time": "2018-12-22T15:32:57.114799Z"
    }
   },
   "outputs": [
    {
     "data": {
      "text/plain": [
       "0"
      ]
     },
     "execution_count": 18,
     "metadata": {},
     "output_type": "execute_result"
    }
   ],
   "source": [
    "sentence_score"
   ]
  },
  {
   "cell_type": "code",
   "execution_count": null,
   "metadata": {},
   "outputs": [],
   "source": []
  },
  {
   "cell_type": "code",
   "execution_count": null,
   "metadata": {},
   "outputs": [],
   "source": []
  },
  {
   "cell_type": "code",
   "execution_count": null,
   "metadata": {},
   "outputs": [],
   "source": []
  },
  {
   "cell_type": "code",
   "execution_count": null,
   "metadata": {},
   "outputs": [],
   "source": []
  },
  {
   "cell_type": "code",
   "execution_count": null,
   "metadata": {},
   "outputs": [],
   "source": []
  },
  {
   "cell_type": "code",
   "execution_count": null,
   "metadata": {},
   "outputs": [],
   "source": []
  },
  {
   "cell_type": "code",
   "execution_count": null,
   "metadata": {},
   "outputs": [],
   "source": []
  },
  {
   "cell_type": "code",
   "execution_count": null,
   "metadata": {},
   "outputs": [],
   "source": []
  },
  {
   "cell_type": "code",
   "execution_count": null,
   "metadata": {},
   "outputs": [],
   "source": []
  }
 ],
 "metadata": {
  "kernelspec": {
   "display_name": "Python 3",
   "language": "python",
   "name": "python3"
  },
  "language_info": {
   "codemirror_mode": {
    "name": "ipython",
    "version": 3
   },
   "file_extension": ".py",
   "mimetype": "text/x-python",
   "name": "python",
   "nbconvert_exporter": "python",
   "pygments_lexer": "ipython3",
   "version": "3.7.0"
  },
  "toc": {
   "base_numbering": 1,
   "nav_menu": {},
   "number_sections": true,
   "sideBar": true,
   "skip_h1_title": false,
   "title_cell": "Table of Contents",
   "title_sidebar": "Contents",
   "toc_cell": false,
   "toc_position": {},
   "toc_section_display": true,
   "toc_window_display": false
  }
 },
 "nbformat": 4,
 "nbformat_minor": 2
}
