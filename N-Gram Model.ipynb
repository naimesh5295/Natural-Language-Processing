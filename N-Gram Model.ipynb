{
 "cells": [
  {
   "cell_type": "code",
   "execution_count": 1,
   "metadata": {
    "ExecuteTime": {
     "end_time": "2018-12-21T15:28:44.040429Z",
     "start_time": "2018-12-21T15:28:44.036356Z"
    }
   },
   "outputs": [],
   "source": [
    "import random"
   ]
  },
  {
   "cell_type": "code",
   "execution_count": 2,
   "metadata": {
    "ExecuteTime": {
     "end_time": "2018-12-21T15:28:44.049436Z",
     "start_time": "2018-12-21T15:28:44.044847Z"
    }
   },
   "outputs": [],
   "source": [
    "text = \"\"\"Global warming or climate change has become a worldwide concern. It is gradually developing into an unprecedented environmental crisis evident in melting glaciers, changing weather patterns, rising sea levels, floods, cyclones and droughts. Global warming an increase in the average temprature of the earth due to entrapment of greenouse gases in the earth's atmosphere.\"\"\""
   ]
  },
  {
   "cell_type": "code",
   "execution_count": 3,
   "metadata": {
    "ExecuteTime": {
     "end_time": "2018-12-21T15:28:44.058812Z",
     "start_time": "2018-12-21T15:28:44.054881Z"
    }
   },
   "outputs": [],
   "source": [
    "n = 13#trigram"
   ]
  },
  {
   "cell_type": "code",
   "execution_count": 4,
   "metadata": {
    "ExecuteTime": {
     "end_time": "2018-12-21T15:28:44.073265Z",
     "start_time": "2018-12-21T15:28:44.064187Z"
    }
   },
   "outputs": [],
   "source": [
    "#creating n-gram model\n",
    "ngrams = {}\n",
    "for i in range(len(text)-n):\n",
    "    gram = text[i:i+n]\n",
    "    if gram not in ngrams.keys():\n",
    "        ngrams[gram] = []\n",
    "    ngrams[gram].append(text[i+n])#text[0+3] = text[3] = b"
   ]
  },
  {
   "cell_type": "code",
   "execution_count": 5,
   "metadata": {
    "ExecuteTime": {
     "end_time": "2018-12-21T15:28:44.096362Z",
     "start_time": "2018-12-21T15:28:44.076938Z"
    }
   },
   "outputs": [
    {
     "data": {
      "text/plain": [
       "dict_keys(['Global warmin', 'lobal warming', 'obal warming ', 'bal warming o', 'al warming or', 'l warming or ', ' warming or c', 'warming or cl', 'arming or cli', 'rming or clim', 'ming or clima', 'ing or climat', 'ng or climate', 'g or climate ', ' or climate c', 'or climate ch', 'r climate cha', ' climate chan', 'climate chang', 'limate change', 'imate change ', 'mate change h', 'ate change ha', 'te change has', 'e change has ', ' change has b', 'change has be', 'hange has bec', 'ange has beco', 'nge has becom', 'ge has become', 'e has become ', ' has become a', 'has become a ', 'as become a w', 's become a wo', ' become a wor', 'become a worl', 'ecome a world', 'come a worldw', 'ome a worldwi', 'me a worldwid', 'e a worldwide', ' a worldwide ', 'a worldwide c', ' worldwide co', 'worldwide con', 'orldwide conc', 'rldwide conce', 'ldwide concer', 'dwide concern', 'wide concern.', 'ide concern. ', 'de concern. I', 'e concern. It', ' concern. It ', 'concern. It i', 'oncern. It is', 'ncern. It is ', 'cern. It is g', 'ern. It is gr', 'rn. It is gra', 'n. It is grad', '. It is gradu', ' It is gradua', 'It is gradual', 't is graduall', ' is gradually', 'is gradually ', 's gradually d', ' gradually de', 'gradually dev', 'radually deve', 'adually devel', 'dually develo', 'ually develop', 'ally developi', 'lly developin', 'ly developing', 'y developing ', ' developing i', 'developing in', 'eveloping int', 'veloping into', 'eloping into ', 'loping into a', 'oping into an', 'ping into an ', 'ing into an u', 'ng into an un', 'g into an unp', ' into an unpr', 'into an unpre', 'nto an unprec', 'to an unprece', 'o an unpreced', ' an unprecede', 'an unpreceden', 'n unprecedent', ' unprecedente', 'unprecedented', 'nprecedented ', 'precedented e', 'recedented en', 'ecedented env', 'cedented envi', 'edented envir', 'dented enviro', 'ented environ', 'nted environm', 'ted environme', 'ed environmen', 'd environment', ' environmenta', 'environmental', 'nvironmental ', 'vironmental c', 'ironmental cr', 'ronmental cri', 'onmental cris', 'nmental crisi', 'mental crisis', 'ental crisis ', 'ntal crisis e', 'tal crisis ev', 'al crisis evi', 'l crisis evid', ' crisis evide', 'crisis eviden', 'risis evident', 'isis evident ', 'sis evident i', 'is evident in', 's evident in ', ' evident in m', 'evident in me', 'vident in mel', 'ident in melt', 'dent in melti', 'ent in meltin', 'nt in melting', 't in melting ', ' in melting g', 'in melting gl', 'n melting gla', ' melting glac', 'melting glaci', 'elting glacie', 'lting glacier', 'ting glaciers', 'ing glaciers,', 'ng glaciers, ', 'g glaciers, c', ' glaciers, ch', 'glaciers, cha', 'laciers, chan', 'aciers, chang', 'ciers, changi', 'iers, changin', 'ers, changing', 'rs, changing ', 's, changing w', ', changing we', ' changing wea', 'changing weat', 'hanging weath', 'anging weathe', 'nging weather', 'ging weather ', 'ing weather p', 'ng weather pa', 'g weather pat', ' weather patt', 'weather patte', 'eather patter', 'ather pattern', 'ther patterns', 'her patterns,', 'er patterns, ', 'r patterns, r', ' patterns, ri', 'patterns, ris', 'atterns, risi', 'tterns, risin', 'terns, rising', 'erns, rising ', 'rns, rising s', 'ns, rising se', 's, rising sea', ', rising sea ', ' rising sea l', 'rising sea le', 'ising sea lev', 'sing sea leve', 'ing sea level', 'ng sea levels', 'g sea levels,', ' sea levels, ', 'sea levels, f', 'ea levels, fl', 'a levels, flo', ' levels, floo', 'levels, flood', 'evels, floods', 'vels, floods,', 'els, floods, ', 'ls, floods, c', 's, floods, cy', ', floods, cyc', ' floods, cycl', 'floods, cyclo', 'loods, cyclon', 'oods, cyclone', 'ods, cyclones', 'ds, cyclones ', 's, cyclones a', ', cyclones an', ' cyclones and', 'cyclones and ', 'yclones and d', 'clones and dr', 'lones and dro', 'ones and drou', 'nes and droug', 'es and drough', 's and drought', ' and droughts', 'and droughts.', 'nd droughts. ', 'd droughts. G', ' droughts. Gl', 'droughts. Glo', 'roughts. Glob', 'oughts. Globa', 'ughts. Global', 'ghts. Global ', 'hts. Global w', 'ts. Global wa', 's. Global war', '. Global warm', ' Global warmi', 'bal warming a', 'al warming an', 'l warming an ', ' warming an i', 'warming an in', 'arming an inc', 'rming an incr', 'ming an incre', 'ing an increa', 'ng an increas', 'g an increase', ' an increase ', 'an increase i', 'n increase in', ' increase in ', 'increase in t', 'ncrease in th', 'crease in the', 'rease in the ', 'ease in the a', 'ase in the av', 'se in the ave', 'e in the aver', ' in the avera', 'in the averag', 'n the average', ' the average ', 'the average t', 'he average te', 'e average tem', ' average temp', 'average tempr', 'verage tempra', 'erage temprat', 'rage tempratu', 'age tempratur', 'ge temprature', 'e temprature ', ' temprature o', 'temprature of', 'emprature of ', 'mprature of t', 'prature of th', 'rature of the', 'ature of the ', 'ture of the e', 'ure of the ea', 're of the ear', 'e of the eart', ' of the earth', 'of the earth ', 'f the earth d', ' the earth du', 'the earth due', 'he earth due ', 'e earth due t', ' earth due to', 'earth due to ', 'arth due to e', 'rth due to en', 'th due to ent', 'h due to entr', ' due to entra', 'due to entrap', 'ue to entrapm', 'e to entrapme', ' to entrapmen', 'to entrapment', 'o entrapment ', ' entrapment o', 'entrapment of', 'ntrapment of ', 'trapment of g', 'rapment of gr', 'apment of gre', 'pment of gree', 'ment of green', 'ent of greeno', 'nt of greenou', 't of greenous', ' of greenouse', 'of greenouse ', 'f greenouse g', ' greenouse ga', 'greenouse gas', 'reenouse gase', 'eenouse gases', 'enouse gases ', 'nouse gases i', 'ouse gases in', 'use gases in ', 'se gases in t', 'e gases in th', ' gases in the', 'gases in the ', 'ases in the e', 'ses in the ea', 'es in the ear', 's in the eart', ' in the earth', \"in the earth'\", \"n the earth's\", \" the earth's \", \"the earth's a\", \"he earth's at\", \"e earth's atm\", \" earth's atmo\", \"earth's atmos\", \"arth's atmosp\", \"rth's atmosph\", \"th's atmosphe\", \"h's atmospher\", \"'s atmosphere\"])"
      ]
     },
     "execution_count": 5,
     "metadata": {},
     "output_type": "execute_result"
    }
   ],
   "source": [
    "ngrams.keys()"
   ]
  },
  {
   "cell_type": "code",
   "execution_count": 6,
   "metadata": {
    "ExecuteTime": {
     "end_time": "2018-12-21T15:28:44.104871Z",
     "start_time": "2018-12-21T15:28:44.100020Z"
    }
   },
   "outputs": [],
   "source": [
    "#testing n-gram model\n",
    "currentgram = text[0:n]"
   ]
  },
  {
   "cell_type": "code",
   "execution_count": 7,
   "metadata": {
    "ExecuteTime": {
     "end_time": "2018-12-21T15:28:44.116542Z",
     "start_time": "2018-12-21T15:28:44.108823Z"
    }
   },
   "outputs": [
    {
     "data": {
      "text/plain": [
       "'Global warmin'"
      ]
     },
     "execution_count": 7,
     "metadata": {},
     "output_type": "execute_result"
    }
   ],
   "source": [
    "currentgram"
   ]
  },
  {
   "cell_type": "code",
   "execution_count": 8,
   "metadata": {
    "ExecuteTime": {
     "end_time": "2018-12-21T15:28:44.123498Z",
     "start_time": "2018-12-21T15:28:44.119854Z"
    }
   },
   "outputs": [],
   "source": [
    "result = currentgram"
   ]
  },
  {
   "cell_type": "code",
   "execution_count": 9,
   "metadata": {
    "ExecuteTime": {
     "end_time": "2018-12-21T15:28:44.133734Z",
     "start_time": "2018-12-21T15:28:44.127822Z"
    }
   },
   "outputs": [],
   "source": [
    "for i in range(100):\n",
    "    if currentgram not in ngrams.keys():\n",
    "        break;\n",
    "    possibillities = ngrams[currentgram]\n",
    "    nextitem = possibillities[random.randrange(len(possibillities))]\n",
    "    result +=nextitem\n",
    "    currentgram = result[len(result)-n:len(result)]\n",
    "        "
   ]
  },
  {
   "cell_type": "code",
   "execution_count": 10,
   "metadata": {
    "ExecuteTime": {
     "end_time": "2018-12-21T15:28:53.026157Z",
     "start_time": "2018-12-21T15:28:53.020384Z"
    }
   },
   "outputs": [
    {
     "data": {
      "text/plain": [
       "'Global warming an increase in the average temprature of the earth due to entrapment of greenouse gases in the ear'"
      ]
     },
     "execution_count": 10,
     "metadata": {},
     "output_type": "execute_result"
    }
   ],
   "source": [
    "result"
   ]
  },
  {
   "cell_type": "code",
   "execution_count": null,
   "metadata": {},
   "outputs": [],
   "source": []
  }
 ],
 "metadata": {
  "gist": {
   "data": {
    "description": "Desktop/nlp/ NLP Basics/N-Gram Model.ipynb",
    "public": false
   },
   "id": ""
  },
  "kernelspec": {
   "display_name": "Python 3",
   "language": "python",
   "name": "python3"
  },
  "language_info": {
   "codemirror_mode": {
    "name": "ipython",
    "version": 3
   },
   "file_extension": ".py",
   "mimetype": "text/x-python",
   "name": "python",
   "nbconvert_exporter": "python",
   "pygments_lexer": "ipython3",
   "version": "3.7.0"
  },
  "toc": {
   "base_numbering": 1,
   "nav_menu": {},
   "number_sections": true,
   "sideBar": true,
   "skip_h1_title": false,
   "title_cell": "Table of Contents",
   "title_sidebar": "Contents",
   "toc_cell": false,
   "toc_position": {},
   "toc_section_display": true,
   "toc_window_display": false
  }
 },
 "nbformat": 4,
 "nbformat_minor": 2
}
